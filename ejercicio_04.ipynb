{
 "cells": [
  {
   "cell_type": "markdown",
   "id": "98b128e1-8b4f-4e57-841f-aa55fda94525",
   "metadata": {},
   "source": [
    "# **Ejercicio**\n",
    "\n",
    "Ahora que hemos aprendido varias formas de formatear strings en Python, es momento de poner en práctica lo aprendido. En este ejercicio, te pediremos que utilices la función `input()` para solicitar cierta información al usuario y luego formatea esa información utilizando al menos dos de los métodos que hemos discutido anteriormente (concatenación con '+', usando comas, f-strings o el método `.format()`).\n",
    "\n",
    "## **Instrucciones:**"
   ]
  },
  {
   "cell_type": "markdown",
   "id": "415cbfe8-82e2-4766-8dff-e990ec83f874",
   "metadata": {},
   "source": [
    "1. Pide al usuario que ingrese su nombre y su edad utilizando la función `input()`."
   ]
  },
  {
   "cell_type": "code",
   "execution_count": 1,
   "id": "d86ba9e7-bd49-47e1-b8e8-6b4516ae186b",
   "metadata": {},
   "outputs": [
    {
     "name": "stdin",
     "output_type": "stream",
     "text": [
      "Ingresa tu nombre:  Anthony\n"
     ]
    }
   ],
   "source": [
    "name=input(\"Ingresa tu nombre: \")"
   ]
  },
  {
   "cell_type": "code",
   "execution_count": 2,
   "id": "3bba26bb-d544-476f-8814-8e2c3f08616d",
   "metadata": {},
   "outputs": [
    {
     "name": "stdin",
     "output_type": "stream",
     "text": [
      "Ingresa tu edad:  32\n"
     ]
    }
   ],
   "source": [
    "age=input(\"Ingresa tu edad: \")"
   ]
  },
  {
   "cell_type": "markdown",
   "id": "215970fd-3498-47a4-a90f-5f9e5e56a61d",
   "metadata": {},
   "source": [
    "2. Crea un mensaje de saludo que incluya el nombre y la edad del usuario, utilizando dos métodos diferentes de formateo de strings."
   ]
  },
  {
   "cell_type": "code",
   "execution_count": 3,
   "id": "a8f8f2d5-af60-4664-93c2-d3fa9e9ac257",
   "metadata": {},
   "outputs": [],
   "source": [
    "message_1=f\"Hola mi nombre es {name} y mi edad es {age}\""
   ]
  },
  {
   "cell_type": "code",
   "execution_count": 4,
   "id": "bd89d6dc-acf4-4849-89ed-f3da51111ba0",
   "metadata": {},
   "outputs": [],
   "source": [
    "message_2=\"Hola mi nombre es {} y mi edad es {}\".format(name,age)"
   ]
  },
  {
   "cell_type": "markdown",
   "id": "de82b573-0be6-42b2-883e-dfa7032f0b86",
   "metadata": {},
   "source": [
    "3. Imprime ambos mensajes en la consola para verificar tu trabajo."
   ]
  },
  {
   "cell_type": "code",
   "execution_count": 5,
   "id": "b13a52f3-ba05-43b8-8f8c-25206cdfad9b",
   "metadata": {},
   "outputs": [
    {
     "name": "stdout",
     "output_type": "stream",
     "text": [
      "Hola mi nombre es Anthony y mi edad es 32\n"
     ]
    }
   ],
   "source": [
    "print(message_1)"
   ]
  },
  {
   "cell_type": "code",
   "execution_count": 6,
   "id": "2707b487-7bf5-42fd-8654-5d05cdeb9227",
   "metadata": {},
   "outputs": [
    {
     "name": "stdout",
     "output_type": "stream",
     "text": [
      "Hola mi nombre es Anthony y mi edad es 32\n"
     ]
    }
   ],
   "source": [
    "print(message_2)"
   ]
  }
 ],
 "metadata": {
  "kernelspec": {
   "display_name": "Python 3 (ipykernel)",
   "language": "python",
   "name": "python3"
  },
  "language_info": {
   "codemirror_mode": {
    "name": "ipython",
    "version": 3
   },
   "file_extension": ".py",
   "mimetype": "text/x-python",
   "name": "python",
   "nbconvert_exporter": "python",
   "pygments_lexer": "ipython3",
   "version": "3.10.12"
  }
 },
 "nbformat": 4,
 "nbformat_minor": 5
}
