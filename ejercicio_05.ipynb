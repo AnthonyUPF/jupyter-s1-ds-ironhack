{
 "cells": [
  {
   "cell_type": "markdown",
   "id": "ca310e6f-b26b-426b-9b86-93fc9a00991d",
   "metadata": {},
   "source": [
    "# *Ejercicio: Trabajando con Listas*\n",
    "\n",
    "1. Crea una lista llamada `meses` que contenga los nombres de todos los meses del año."
   ]
  },
  {
   "cell_type": "code",
   "execution_count": 1,
   "id": "3344a9c6-3b05-4bd3-bcde-4bcddc7bcbcb",
   "metadata": {},
   "outputs": [],
   "source": [
    "meses=[\"Enero\",\"Febrero\",\"Marzo\",\"Abril\",\"Mayo\",\"Junio\",\"Julio\",\"Agosto\",\"Septiembre\",\"Octubre\",\"Noviembre\",\"Diciembre\"]"
   ]
  },
  {
   "cell_type": "code",
   "execution_count": 2,
   "id": "fedf6e43-2935-4bea-9168-da626356a1f7",
   "metadata": {},
   "outputs": [
    {
     "name": "stdout",
     "output_type": "stream",
     "text": [
      "['Enero', 'Febrero', 'Marzo', 'Abril', 'Mayo', 'Junio', 'Julio', 'Agosto', 'Septiembre', 'Octubre', 'Noviembre', 'Diciembre']\n"
     ]
    }
   ],
   "source": [
    "print(meses)"
   ]
  },
  {
   "cell_type": "markdown",
   "id": "dbb1c4fe-6f8f-470a-ac82-00ffe1677f9f",
   "metadata": {},
   "source": [
    "2. Utiliza el método `append` para añadir un elemento extra en la lista que sea \"Fin de año\"."
   ]
  },
  {
   "cell_type": "code",
   "execution_count": 3,
   "id": "818387f8-a964-41ad-a355-03917cb30ced",
   "metadata": {},
   "outputs": [],
   "source": [
    "meses.append(\"Fin de año\")"
   ]
  },
  {
   "cell_type": "code",
   "execution_count": 4,
   "id": "5eb002ca-e3fa-43bf-bd77-720f8b40f765",
   "metadata": {},
   "outputs": [
    {
     "name": "stdout",
     "output_type": "stream",
     "text": [
      "['Enero', 'Febrero', 'Marzo', 'Abril', 'Mayo', 'Junio', 'Julio', 'Agosto', 'Septiembre', 'Octubre', 'Noviembre', 'Diciembre', 'Fin de año']\n"
     ]
    }
   ],
   "source": [
    "print(meses)"
   ]
  },
  {
   "cell_type": "markdown",
   "id": "7857ff47-c697-4a66-b50f-75520e369672",
   "metadata": {},
   "source": [
    "3.     Utiliza el método `remove` para eliminar este último elemento que has añadido."
   ]
  },
  {
   "cell_type": "code",
   "execution_count": 5,
   "id": "c4e74029-058f-4f01-9469-ab0d5903c7a4",
   "metadata": {},
   "outputs": [],
   "source": [
    "meses.remove(\"Fin de año\")"
   ]
  },
  {
   "cell_type": "code",
   "execution_count": 6,
   "id": "74f55c69-be11-42ca-adbe-11a992ab15ce",
   "metadata": {},
   "outputs": [
    {
     "name": "stdout",
     "output_type": "stream",
     "text": [
      "['Enero', 'Febrero', 'Marzo', 'Abril', 'Mayo', 'Junio', 'Julio', 'Agosto', 'Septiembre', 'Octubre', 'Noviembre', 'Diciembre']\n"
     ]
    }
   ],
   "source": [
    "print(meses)"
   ]
  },
  {
   "cell_type": "markdown",
   "id": "b3096bd2-21ba-41fd-91d0-c1f59f2b3cfb",
   "metadata": {},
   "source": [
    "4.     Usando `slicing`, crea una nueva lista que contenga solo los meses del segundo trimestre (abril, mayo y junio)."
   ]
  },
  {
   "cell_type": "code",
   "execution_count": 7,
   "id": "4556976c-8aaf-4b05-bcd6-86ad7b8cfaf3",
   "metadata": {},
   "outputs": [],
   "source": [
    "segundo_trimestre=meses[3:6:1]"
   ]
  },
  {
   "cell_type": "code",
   "execution_count": 8,
   "id": "149a0963-6b78-4184-9b60-173cee0ed8c6",
   "metadata": {},
   "outputs": [
    {
     "name": "stdout",
     "output_type": "stream",
     "text": [
      "['Abril', 'Mayo', 'Junio']\n"
     ]
    }
   ],
   "source": [
    "print(segundo_trimestre)"
   ]
  },
  {
   "cell_type": "markdown",
   "id": "88710fa6-0fde-46eb-bd97-c0bb8edb87eb",
   "metadata": {},
   "source": [
    "5.  Usa el método `reverse` para invertir el orden de los elementos en la lista original de meses."
   ]
  },
  {
   "cell_type": "code",
   "execution_count": 9,
   "id": "a0b12b06-9db9-475b-9a58-fef94bb2acb6",
   "metadata": {},
   "outputs": [],
   "source": [
    "meses_invertidos=meses.copy()\n",
    "meses_invertidos.reverse()"
   ]
  },
  {
   "cell_type": "code",
   "execution_count": 10,
   "id": "b371c85c-dfdb-4e4e-b70c-0246375dd6e9",
   "metadata": {},
   "outputs": [
    {
     "name": "stdout",
     "output_type": "stream",
     "text": [
      "['Diciembre', 'Noviembre', 'Octubre', 'Septiembre', 'Agosto', 'Julio', 'Junio', 'Mayo', 'Abril', 'Marzo', 'Febrero', 'Enero']\n"
     ]
    }
   ],
   "source": [
    "print(meses_invertidos)"
   ]
  },
  {
   "cell_type": "markdown",
   "id": "c33eb75f-6611-4ca9-89a9-0fb854142184",
   "metadata": {},
   "source": [
    "6.  Encuentra el método apropiado para ordenar la lista de meses en orden alfabético y aplícalo."
   ]
  },
  {
   "cell_type": "code",
   "execution_count": 11,
   "id": "b17b2458-92a6-4cb6-8eb5-351c05e99658",
   "metadata": {},
   "outputs": [],
   "source": [
    "meses_ordenados=meses.copy()\n",
    "meses_ordenados.sort()"
   ]
  },
  {
   "cell_type": "code",
   "execution_count": 12,
   "id": "341a0687-206b-47ef-8ca2-f0b3eacd0d69",
   "metadata": {},
   "outputs": [
    {
     "name": "stdout",
     "output_type": "stream",
     "text": [
      "['Abril', 'Agosto', 'Diciembre', 'Enero', 'Febrero', 'Julio', 'Junio', 'Marzo', 'Mayo', 'Noviembre', 'Octubre', 'Septiembre']\n"
     ]
    }
   ],
   "source": [
    "print(meses_ordenados)"
   ]
  },
  {
   "cell_type": "markdown",
   "id": "0c826884-bed4-445f-b269-9a4dc07832e9",
   "metadata": {},
   "source": [
    "7.     Utiliza el método `index` para encontrar la posición de tu mes de nacimiento en la lista ordenada alfabéticamente."
   ]
  },
  {
   "cell_type": "code",
   "execution_count": 13,
   "id": "b5360704-5abc-46ca-aceb-ba75ec2e5386",
   "metadata": {},
   "outputs": [
    {
     "data": {
      "text/plain": [
       "10"
      ]
     },
     "execution_count": 13,
     "metadata": {},
     "output_type": "execute_result"
    }
   ],
   "source": [
    "meses_ordenados.index(\"Octubre\")"
   ]
  },
  {
   "cell_type": "markdown",
   "id": "47d7d1a6-1c17-4d90-b698-e3e55204cbf1",
   "metadata": {},
   "source": [
    "## **Extra:**\n",
    "\n",
    "- Crea una lista de listas, donde cada sublista contenga los meses de cada trimestre."
   ]
  },
  {
   "cell_type": "code",
   "execution_count": 14,
   "id": "443d2f2a-5944-4f7c-953c-7497d8e04da5",
   "metadata": {},
   "outputs": [],
   "source": [
    "trimestres=[[\"Enero\",\"Febrero\",\"Marzo\"],[\"Abril\",\"Mayo\",\"Junio\"],[\"Julio\",\"Agosto\",\"Septiembre\"],[\"Octubre\",\"Noviembre\",\"Diciembre\"]]"
   ]
  },
  {
   "cell_type": "code",
   "execution_count": 15,
   "id": "cf016321-cd3f-43f5-95aa-7aa12aaa8266",
   "metadata": {},
   "outputs": [
    {
     "name": "stdout",
     "output_type": "stream",
     "text": [
      "[['Enero', 'Febrero', 'Marzo'], ['Abril', 'Mayo', 'Junio'], ['Julio', 'Agosto', 'Septiembre'], ['Octubre', 'Noviembre', 'Diciembre']]\n"
     ]
    }
   ],
   "source": [
    "print(trimestres)"
   ]
  },
  {
   "cell_type": "markdown",
   "id": "a080b274-2467-4493-b7d5-ce83b6552e1d",
   "metadata": {},
   "source": [
    "- Utiliza un bucle `for` para imprimir cada mes de cada trimestre, formateando la salida de la siguiente manera: \"El {número de mes}° mes del año es {nombre del mes}\"."
   ]
  },
  {
   "cell_type": "code",
   "execution_count": 16,
   "id": "168f145c-f49d-4a47-8a39-d06324b05110",
   "metadata": {},
   "outputs": [
    {
     "name": "stdout",
     "output_type": "stream",
     "text": [
      "El 1° mes del año es Enero\n",
      "El 2° mes del año es Febrero\n",
      "El 3° mes del año es Marzo\n",
      "El 4° mes del año es Abril\n",
      "El 5° mes del año es Mayo\n",
      "El 6° mes del año es Junio\n",
      "El 7° mes del año es Julio\n",
      "El 8° mes del año es Agosto\n",
      "El 9° mes del año es Septiembre\n",
      "El 10° mes del año es Octubre\n",
      "El 11° mes del año es Noviembre\n",
      "El 12° mes del año es Diciembre\n"
     ]
    }
   ],
   "source": [
    "for i in range(0,len(trimestres)):\n",
    "    for j in range(0,len(trimestres[i])):\n",
    "        print(f\"El {3*i+j+1}° mes del año es {trimestres[i][j]}\")"
   ]
  }
 ],
 "metadata": {
  "kernelspec": {
   "display_name": "Python 3 (ipykernel)",
   "language": "python",
   "name": "python3"
  },
  "language_info": {
   "codemirror_mode": {
    "name": "ipython",
    "version": 3
   },
   "file_extension": ".py",
   "mimetype": "text/x-python",
   "name": "python",
   "nbconvert_exporter": "python",
   "pygments_lexer": "ipython3",
   "version": "3.10.12"
  }
 },
 "nbformat": 4,
 "nbformat_minor": 5
}
