{
 "cells": [
  {
   "cell_type": "markdown",
   "id": "a4db859e-5145-4388-b76f-e89d90c78376",
   "metadata": {},
   "source": [
    "**Ejercicio: Convertir Códigos a Markdown**\n",
    "\n",
    "En este ejercicio, tu tarea será convertir las siguientes celdas de código que contienen encabezados (headings) y texto enriquecido a celdas de markdown. De esta manera, en lugar de verse como un bloque de código, se visualizarán como texto con formato.\n",
    "\n",
    "1. Selecciona la primera celda que contiene los encabezados y el texto enriquecido escrito como código.\n",
    "2. Utiliza el atajo `m` (asegurándote de que la celda está resaltada en azul) para convertir la celda de código a una celda de markdown.\n",
    "3. Presiona `Shift+Enter` o `Ctrl+Enter` para ejecutar la celda y ver el resultado.\n",
    "4. Si has realizado el paso correctamente, deberías ver los encabezados y el texto enriquecido (negritas, cursivas, etc.) aplicados en lugar de como un bloque de código."
   ]
  },
  {
   "cell_type": "markdown",
   "id": "8f9b3030-b6c2-4141-b876-446ae20725d0",
   "metadata": {},
   "source": [
    "# Encabezado 1\n",
    "\n",
    "## Encabezado 2\n",
    "\n",
    "### Encabezado 3\n",
    "\n",
    "#### Encabezado 4\n",
    "\n",
    "**negrita**\n",
    "\n",
    "*cursiva*\n",
    "\n",
    "una línea vacía es un párrafo\n",
    "\n",
    "esto es un nuevo párrafo"
   ]
  }
 ],
 "metadata": {
  "kernelspec": {
   "display_name": "Python 3 (ipykernel)",
   "language": "python",
   "name": "python3"
  },
  "language_info": {
   "codemirror_mode": {
    "name": "ipython",
    "version": 3
   },
   "file_extension": ".py",
   "mimetype": "text/x-python",
   "name": "python",
   "nbconvert_exporter": "python",
   "pygments_lexer": "ipython3",
   "version": "3.10.12"
  }
 },
 "nbformat": 4,
 "nbformat_minor": 5
}
