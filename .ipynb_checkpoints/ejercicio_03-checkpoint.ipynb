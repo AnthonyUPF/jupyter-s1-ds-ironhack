{
 "cells": [
  {
   "cell_type": "markdown",
   "id": "99d985a3-5d73-4cdd-bf2b-519aefd90d25",
   "metadata": {},
   "source": [
    "**Ejercicio**\n",
    "\n",
    "Ahora es tu turno de probar la conversión de int a str. Realiza las siguientes tareas:"
   ]
  },
  {
   "cell_type": "markdown",
   "id": "06bf60c5-5773-4659-a380-de283218f036",
   "metadata": {},
   "source": [
    "1. Crea una variable `edad` y asígnale tu edad como un entero."
   ]
  },
  {
   "cell_type": "code",
   "execution_count": 1,
   "id": "82e4f2e2-000a-4a00-b5c1-a278324418b2",
   "metadata": {},
   "outputs": [],
   "source": [
    "edad=32"
   ]
  },
  {
   "cell_type": "markdown",
   "id": "a7f3d897-1357-4b9e-9d63-b5427207f713",
   "metadata": {},
   "source": [
    "2. Convierte la variable `edad` a un string utilizando la función `str()`."
   ]
  },
  {
   "cell_type": "code",
   "execution_count": 2,
   "id": "becc541e-2d51-49f5-a19a-a6c5d8b233c2",
   "metadata": {},
   "outputs": [],
   "source": [
    "edad=str(edad)"
   ]
  },
  {
   "cell_type": "markdown",
   "id": "b28ca455-f7d6-4cbd-9686-8c358f96a597",
   "metadata": {},
   "source": [
    "3. Concatena la cadena \"Mi edad es: \" con la variable `edad` (ahora una cadena) y almacena el resultado en una nueva variable llamada `mensaje`."
   ]
  },
  {
   "cell_type": "code",
   "execution_count": 3,
   "id": "0ab878ac-5119-4ad7-bfbe-c4085a5cbd81",
   "metadata": {},
   "outputs": [],
   "source": [
    "mensaje=\"Mi edad es: \"+edad"
   ]
  },
  {
   "cell_type": "markdown",
   "id": "e1c2fb3b-0c23-4d1e-a17b-c864f19499c8",
   "metadata": {},
   "source": [
    "4. Imprime la variable `mensaje` en la consola."
   ]
  },
  {
   "cell_type": "code",
   "execution_count": 4,
   "id": "efd4263b-933c-4664-bece-3c0fc9eb8224",
   "metadata": {},
   "outputs": [
    {
     "name": "stdout",
     "output_type": "stream",
     "text": [
      "Mi edad es: 32\n"
     ]
    }
   ],
   "source": [
    "print(mensaje)"
   ]
  }
 ],
 "metadata": {
  "kernelspec": {
   "display_name": "Python 3 (ipykernel)",
   "language": "python",
   "name": "python3"
  },
  "language_info": {
   "codemirror_mode": {
    "name": "ipython",
    "version": 3
   },
   "file_extension": ".py",
   "mimetype": "text/x-python",
   "name": "python",
   "nbconvert_exporter": "python",
   "pygments_lexer": "ipython3",
   "version": "3.10.12"
  }
 },
 "nbformat": 4,
 "nbformat_minor": 5
}
