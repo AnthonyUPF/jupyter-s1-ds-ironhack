{
 "cells": [
  {
   "cell_type": "markdown",
   "id": "a10267ef-43a0-4d1a-9f36-94f69aecaced",
   "metadata": {},
   "source": [
    "# **Ejercicio final**\n",
    "\n",
    "Vas a crear un programa que simule un sistema de inventario simple para una tienda. Deberás utilizar variables, tipos de datos, operaciones básicas, listas, tuplas, conjuntos, diccionarios, métodos de cadenas, y operaciones de conjuntos para desarrollar este programa. Aquí están las tareas específicas que debes realizar:\n",
    "\n",
    "## **Tareas**\n",
    "\n",
    "- **Paso 1**: Crea un diccionario que represente el inventario de la tienda. El diccionario debe contener productos como claves y tuplas como valores, donde cada tupla contiene la cantidad de unidades disponibles y el precio por unidad. Por ejemplo:"
   ]
  },
  {
   "cell_type": "code",
   "execution_count": 1,
   "id": "7b5ccddf-cab1-447c-8b7c-14a45e45b9d1",
   "metadata": {},
   "outputs": [],
   "source": [
    "inventario = {\n",
    "    \"Producto A\": (30, 20.50),\n",
    "    \"Producto B\": (20, 30.00)\n",
    "}"
   ]
  },
  {
   "cell_type": "markdown",
   "id": "a646c854-0208-4749-a652-e4e4f7e28c85",
   "metadata": {},
   "source": [
    "- **Paso 2**: Usa la función input() para solicitar al usuario que introduzca el nombre de un producto, la cantidad de unidades vendidas y el precio de venta. Utiliza un metodo string para el input()."
   ]
  },
  {
   "cell_type": "code",
   "execution_count": 2,
   "id": "598ec52c-21e3-48db-b80f-c16cf37f57db",
   "metadata": {},
   "outputs": [
    {
     "name": "stdin",
     "output_type": "stream",
     "text": [
      "Introduce el nombre del producto:  producto a\n"
     ]
    }
   ],
   "source": [
    "nombre_producto=input(\"Introduce el nombre del producto: \").title()"
   ]
  },
  {
   "cell_type": "code",
   "execution_count": 3,
   "id": "4d483cd7-8872-445b-8a60-8f35675fb67a",
   "metadata": {},
   "outputs": [
    {
     "name": "stdout",
     "output_type": "stream",
     "text": [
      "Producto A\n"
     ]
    }
   ],
   "source": [
    "print(nombre_producto)"
   ]
  },
  {
   "cell_type": "code",
   "execution_count": 4,
   "id": "4b6c59dd-36ac-417a-bbff-521fac193f64",
   "metadata": {},
   "outputs": [
    {
     "name": "stdin",
     "output_type": "stream",
     "text": [
      "Introduce la cantidad de unidades vendidas del producto:  5\n"
     ]
    }
   ],
   "source": [
    "unidades_vendidas=int(input(\"Introduce la cantidad de unidades vendidas del producto: \"))"
   ]
  },
  {
   "cell_type": "code",
   "execution_count": 5,
   "id": "43266579-066c-482a-8aaa-d011bbb47a93",
   "metadata": {},
   "outputs": [
    {
     "name": "stdout",
     "output_type": "stream",
     "text": [
      "5\n"
     ]
    }
   ],
   "source": [
    "print(unidades_vendidas)"
   ]
  },
  {
   "cell_type": "code",
   "execution_count": 6,
   "id": "e948e6df-1b95-409a-8c27-85951aad0eee",
   "metadata": {},
   "outputs": [],
   "source": [
    "precio_venta=inventario[nombre_producto][1]"
   ]
  },
  {
   "cell_type": "code",
   "execution_count": 7,
   "id": "fcece130-af3e-4f1a-9fc6-0bde72cc7b05",
   "metadata": {},
   "outputs": [
    {
     "name": "stdout",
     "output_type": "stream",
     "text": [
      "20.5\n"
     ]
    }
   ],
   "source": [
    "print(precio_venta)"
   ]
  },
  {
   "cell_type": "markdown",
   "id": "e46cc391-994a-4725-9210-7b1b29507b6a",
   "metadata": {},
   "source": [
    "- **Paso 3**: Usa operaciones básicas para actualizar el inventario después de una venta, y calcula el total de ingresos generados por la venta."
   ]
  },
  {
   "cell_type": "code",
   "execution_count": 8,
   "id": "7d752f51-bc39-4e5d-886e-aaa9b5d1fb63",
   "metadata": {},
   "outputs": [],
   "source": [
    "cantidad_producto=inventario[nombre_producto][0]-unidades_vendidas"
   ]
  },
  {
   "cell_type": "code",
   "execution_count": 9,
   "id": "6790f58f-c13a-4c3c-bb1c-c9cd313fcff9",
   "metadata": {},
   "outputs": [],
   "source": [
    "nuevo_inventario=inventario.copy()"
   ]
  },
  {
   "cell_type": "code",
   "execution_count": 10,
   "id": "f621736c-4816-4381-bc7e-1bd576e1a430",
   "metadata": {},
   "outputs": [],
   "source": [
    "nuevo_inventario[nombre_producto]=(cantidad_producto,precio_venta)"
   ]
  },
  {
   "cell_type": "code",
   "execution_count": 11,
   "id": "692ed40b-dec6-4193-91af-7386c0a53a62",
   "metadata": {},
   "outputs": [
    {
     "name": "stdout",
     "output_type": "stream",
     "text": [
      "{'Producto A': (30, 20.5), 'Producto B': (20, 30.0)}\n"
     ]
    }
   ],
   "source": [
    "print(inventario)"
   ]
  },
  {
   "cell_type": "code",
   "execution_count": 12,
   "id": "3204528b-17e0-439d-a14d-ecd7f2ed9b47",
   "metadata": {},
   "outputs": [
    {
     "name": "stdout",
     "output_type": "stream",
     "text": [
      "{'Producto A': (25, 20.5), 'Producto B': (20, 30.0)}\n"
     ]
    }
   ],
   "source": [
    "print(nuevo_inventario)"
   ]
  },
  {
   "cell_type": "markdown",
   "id": "70f791f3-4436-41d1-9504-9be66aabaa81",
   "metadata": {},
   "source": [
    "- **Paso 4**: Utiliza métodos string para formatear y mostrar un recibo de venta que incluya el nombre del producto, la cantidad vendida, el precio por unidad y el total de la venta."
   ]
  },
  {
   "cell_type": "code",
   "execution_count": 13,
   "id": "b68d3361-7677-420f-b002-75d3d1ee4e19",
   "metadata": {},
   "outputs": [],
   "source": [
    "recibo=\"\"\"\n",
    "Recibo de Venta\n",
    "====================\n",
    "Producto: {}\n",
    "Cantidad Vendida: {}\n",
    "Precio por Unidad: {}€\n",
    "Total de Venta: {}€\n",
    "\"\"\".format(nombre_producto,unidades_vendidas,precio_venta,unidades_vendidas*precio_venta)"
   ]
  },
  {
   "cell_type": "code",
   "execution_count": 14,
   "id": "a8135edd-1b36-4a72-827b-7196a9dfefa3",
   "metadata": {},
   "outputs": [
    {
     "name": "stdout",
     "output_type": "stream",
     "text": [
      "\n",
      "Recibo de Venta\n",
      "====================\n",
      "Producto: Producto A\n",
      "Cantidad Vendida: 5\n",
      "Precio por Unidad: 20.5€\n",
      "Total de Venta: 102.5€\n",
      "\n"
     ]
    }
   ],
   "source": [
    "print(recibo)"
   ]
  },
  {
   "cell_type": "markdown",
   "id": "e983eb98-bc90-443f-a9c6-f4a3d74c2a2d",
   "metadata": {},
   "source": [
    "- **Paso 5**: Crea una lista que contenga los nombres de todos los productos en el inventario y utiliza operaciones de conjuntos para identificar cualquier producto nuevo que no estaba previamente en el inventario."
   ]
  },
  {
   "cell_type": "code",
   "execution_count": 15,
   "id": "342bc8ae-3c90-4044-a3ae-61b87782377f",
   "metadata": {},
   "outputs": [],
   "source": [
    "inventario=nuevo_inventario.copy()"
   ]
  },
  {
   "cell_type": "code",
   "execution_count": 16,
   "id": "44924255-eca3-42d9-9a0e-61b08cf13804",
   "metadata": {},
   "outputs": [],
   "source": [
    "nuevo_inventario.clear()"
   ]
  },
  {
   "cell_type": "code",
   "execution_count": 17,
   "id": "c4ca13ae-3108-44a6-ac96-394a81f66d6c",
   "metadata": {},
   "outputs": [
    {
     "name": "stdout",
     "output_type": "stream",
     "text": [
      "{}\n"
     ]
    }
   ],
   "source": [
    "print(nuevo_inventario)"
   ]
  },
  {
   "cell_type": "code",
   "execution_count": 18,
   "id": "7f0c2ccc-f1e9-4303-a794-8c7bde35a0fc",
   "metadata": {},
   "outputs": [
    {
     "name": "stdout",
     "output_type": "stream",
     "text": [
      "{'Producto A': (25, 20.5), 'Producto B': (20, 30.0)}\n"
     ]
    }
   ],
   "source": [
    "print(inventario)"
   ]
  },
  {
   "cell_type": "code",
   "execution_count": 19,
   "id": "d3cfdcb0-38ce-48d3-b970-0ecb079c0629",
   "metadata": {},
   "outputs": [],
   "source": [
    "lista_productos=list(inventario.keys())"
   ]
  },
  {
   "cell_type": "code",
   "execution_count": 20,
   "id": "e2565b2b-eaf5-4cc9-8a52-a740aa7f3eb2",
   "metadata": {},
   "outputs": [
    {
     "name": "stdout",
     "output_type": "stream",
     "text": [
      "['Producto A', 'Producto B']\n"
     ]
    }
   ],
   "source": [
    "print(lista_productos)"
   ]
  },
  {
   "cell_type": "code",
   "execution_count": 21,
   "id": "2046554f-09b2-4810-9d44-65c501c16fd6",
   "metadata": {},
   "outputs": [],
   "source": [
    "conjunto_productos=set(lista_productos)"
   ]
  },
  {
   "cell_type": "code",
   "execution_count": 22,
   "id": "6173c91f-fbfc-4a42-955e-baa32686649c",
   "metadata": {},
   "outputs": [
    {
     "name": "stdout",
     "output_type": "stream",
     "text": [
      "{'Producto A', 'Producto B'}\n"
     ]
    }
   ],
   "source": [
    "print(conjunto_productos)"
   ]
  },
  {
   "cell_type": "code",
   "execution_count": 23,
   "id": "838f18b8-5738-44c8-8e7a-eef88cd06748",
   "metadata": {},
   "outputs": [],
   "source": [
    "producto_0=set([nombre_producto])"
   ]
  },
  {
   "cell_type": "code",
   "execution_count": 24,
   "id": "3b693553-22b3-424c-8b6f-4113de639858",
   "metadata": {},
   "outputs": [
    {
     "data": {
      "text/plain": [
       "{'Producto A'}"
      ]
     },
     "execution_count": 24,
     "metadata": {},
     "output_type": "execute_result"
    }
   ],
   "source": [
    "producto_0&conjunto_productos"
   ]
  },
  {
   "cell_type": "code",
   "execution_count": 25,
   "id": "ed7a85be-cc2e-4127-ba3e-de76aab14049",
   "metadata": {},
   "outputs": [],
   "source": [
    "producto_1=set(['Producto C'])"
   ]
  },
  {
   "cell_type": "code",
   "execution_count": 26,
   "id": "f409c3b0-4496-409e-b0a1-a7a3f50af1df",
   "metadata": {},
   "outputs": [
    {
     "data": {
      "text/plain": [
       "set()"
      ]
     },
     "execution_count": 26,
     "metadata": {},
     "output_type": "execute_result"
    }
   ],
   "source": [
    "producto_1&conjunto_productos"
   ]
  },
  {
   "cell_type": "markdown",
   "id": "9c044638-ea04-46ca-93c9-27f1cc2f476c",
   "metadata": {},
   "source": [
    "**Instrucciones Adicionales**:\n",
    "\n",
    "- Utiliza comentarios para documentar tu código de forma clara.\n",
    "- Asegúrate de que tu programa puede manejar múltiples tipos de datos (como strings y números) e implementa conversiones de tipos cuando sea necesario.\n",
    "- Trata de incorporar al menos un ejemplo de cada uno de los métodos de cadenas mencionados en la sección de resumen.\n"
   ]
  }
 ],
 "metadata": {
  "kernelspec": {
   "display_name": "Python 3 (ipykernel)",
   "language": "python",
   "name": "python3"
  },
  "language_info": {
   "codemirror_mode": {
    "name": "ipython",
    "version": 3
   },
   "file_extension": ".py",
   "mimetype": "text/x-python",
   "name": "python",
   "nbconvert_exporter": "python",
   "pygments_lexer": "ipython3",
   "version": "3.10.12"
  }
 },
 "nbformat": 4,
 "nbformat_minor": 5
}
