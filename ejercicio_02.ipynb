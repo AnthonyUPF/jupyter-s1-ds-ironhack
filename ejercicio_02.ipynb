{
 "cells": [
  {
   "cell_type": "markdown",
   "id": "51358226-efa5-4a7e-91e8-0b7aa9ab188d",
   "metadata": {},
   "source": [
    "# **Ejercicio Práctico**\n",
    "\n",
    "Ahora que hemos explorado algunas operaciones básicas en Python, es tu turno de intentarlo.\n",
    "\n",
    "## **Instrucciones:**"
   ]
  },
  {
   "cell_type": "markdown",
   "id": "4399aa2b-4864-4656-a7fb-0e6408924b2e",
   "metadata": {},
   "source": [
    "1. Crea dos nuevas variables, `x` e `y`, y asigna cualquier número entero a cada una de ellas."
   ]
  },
  {
   "cell_type": "code",
   "execution_count": 1,
   "id": "37c8f003-e2f9-4774-8fae-4378fd006ab5",
   "metadata": {},
   "outputs": [],
   "source": [
    "x=5\n",
    "y=7"
   ]
  },
  {
   "cell_type": "markdown",
   "id": "a0e7b582-68ba-4eec-99c3-622c6d77984f",
   "metadata": {},
   "source": [
    "2. Realiza las siguientes operaciones usando estas variables:"
   ]
  },
  {
   "cell_type": "markdown",
   "id": "6cff44e1-c7ab-4f0f-980f-d67e4367d6b1",
   "metadata": {},
   "source": [
    " - Suma "
   ]
  },
  {
   "cell_type": "code",
   "execution_count": 2,
   "id": "3ac5464b-35a3-4875-8ca0-420dfcea204c",
   "metadata": {},
   "outputs": [
    {
     "data": {
      "text/plain": [
       "12"
      ]
     },
     "execution_count": 2,
     "metadata": {},
     "output_type": "execute_result"
    }
   ],
   "source": [
    "suma=x+y\n",
    "suma"
   ]
  },
  {
   "cell_type": "markdown",
   "id": "306135f6-e399-442d-911a-db523914371d",
   "metadata": {},
   "source": [
    "- Resta"
   ]
  },
  {
   "cell_type": "code",
   "execution_count": 3,
   "id": "0699263e-137e-43f6-87f4-fd77bf0f2900",
   "metadata": {},
   "outputs": [
    {
     "data": {
      "text/plain": [
       "-2"
      ]
     },
     "execution_count": 3,
     "metadata": {},
     "output_type": "execute_result"
    }
   ],
   "source": [
    "resta=x-y\n",
    "resta"
   ]
  },
  {
   "cell_type": "markdown",
   "id": "2b91eef5-29c3-437a-86ce-07fbd3d19803",
   "metadata": {},
   "source": [
    "- Multiplicación"
   ]
  },
  {
   "cell_type": "code",
   "execution_count": 4,
   "id": "143fe95f-0d8b-444b-9b30-5ffc1e1dedb3",
   "metadata": {},
   "outputs": [
    {
     "data": {
      "text/plain": [
       "35"
      ]
     },
     "execution_count": 4,
     "metadata": {},
     "output_type": "execute_result"
    }
   ],
   "source": [
    "multiplicacion=x*y\n",
    "multiplicacion"
   ]
  },
  {
   "cell_type": "markdown",
   "id": "07e10dbf-3380-4ce5-80de-ae7ec91dcc52",
   "metadata": {},
   "source": [
    " - División y comprobar el tipo de resultado"
   ]
  },
  {
   "cell_type": "code",
   "execution_count": 5,
   "id": "58209541-8880-4908-ab95-d654f1a9cc9a",
   "metadata": {},
   "outputs": [
    {
     "data": {
      "text/plain": [
       "0.7142857142857143"
      ]
     },
     "execution_count": 5,
     "metadata": {},
     "output_type": "execute_result"
    }
   ],
   "source": [
    "division=x/y\n",
    "division"
   ]
  },
  {
   "cell_type": "code",
   "execution_count": 6,
   "id": "17f66420-b1d6-4645-a593-1a7d734fad68",
   "metadata": {},
   "outputs": [
    {
     "data": {
      "text/plain": [
       "float"
      ]
     },
     "execution_count": 6,
     "metadata": {},
     "output_type": "execute_result"
    }
   ],
   "source": [
    "type(division)"
   ]
  },
  {
   "cell_type": "markdown",
   "id": "16ce83e3-ef21-4207-973e-bc45b3304601",
   "metadata": {},
   "source": [
    "- Floor division y comprobar el tipo de resultado\n",
    "   "
   ]
  },
  {
   "cell_type": "code",
   "execution_count": 7,
   "id": "b27c93a8-f8f9-4e0c-bdd6-01c7d64ee7ab",
   "metadata": {},
   "outputs": [
    {
     "data": {
      "text/plain": [
       "0"
      ]
     },
     "execution_count": 7,
     "metadata": {},
     "output_type": "execute_result"
    }
   ],
   "source": [
    "floor_division=x//y\n",
    "floor_division"
   ]
  },
  {
   "cell_type": "code",
   "execution_count": 8,
   "id": "a2d478a6-8cfc-4076-b501-ffdfea663e45",
   "metadata": {},
   "outputs": [
    {
     "data": {
      "text/plain": [
       "int"
      ]
     },
     "execution_count": 8,
     "metadata": {},
     "output_type": "execute_result"
    }
   ],
   "source": [
    "type(floor_division)"
   ]
  },
  {
   "cell_type": "markdown",
   "id": "ac8c4680-55da-43dd-8f23-0487d4190eb8",
   "metadata": {},
   "source": [
    "- Encuentra el módulo (resto de la división)"
   ]
  },
  {
   "cell_type": "code",
   "execution_count": 9,
   "id": "8a68cb57-0445-4cd2-ae0b-f47cfaf96122",
   "metadata": {},
   "outputs": [
    {
     "data": {
      "text/plain": [
       "5"
      ]
     },
     "execution_count": 9,
     "metadata": {},
     "output_type": "execute_result"
    }
   ],
   "source": [
    "modulo=x%y\n",
    "modulo"
   ]
  },
  {
   "cell_type": "markdown",
   "id": "128d2a33-f410-45cd-91dc-ea4f3a0dd4d6",
   "metadata": {},
   "source": [
    "3. Usa un bucle `for` para iterar sobre una lista de números del 1 al 10 e imprime si cada número es par o impar."
   ]
  },
  {
   "cell_type": "code",
   "execution_count": 10,
   "id": "56ee08b5-45cb-44c2-ac0e-abeeb02461be",
   "metadata": {},
   "outputs": [
    {
     "name": "stdout",
     "output_type": "stream",
     "text": [
      "El número 1 es impar\n",
      "El número 2 es par\n",
      "El número 3 es impar\n",
      "El número 4 es par\n",
      "El número 5 es impar\n",
      "El número 6 es par\n",
      "El número 7 es impar\n",
      "El número 8 es par\n",
      "El número 9 es impar\n",
      "El número 10 es par\n"
     ]
    }
   ],
   "source": [
    "list_=[1,2,3,4,5,6,7,8,9,10]\n",
    "for i in list_:\n",
    "    if (i%2==0):\n",
    "        print(\"El número {} es par\".format(i))\n",
    "    else:\n",
    "        print(\"El número {} es impar\".format(i))"
   ]
  }
 ],
 "metadata": {
  "kernelspec": {
   "display_name": "Python 3 (ipykernel)",
   "language": "python",
   "name": "python3"
  },
  "language_info": {
   "codemirror_mode": {
    "name": "ipython",
    "version": 3
   },
   "file_extension": ".py",
   "mimetype": "text/x-python",
   "name": "python",
   "nbconvert_exporter": "python",
   "pygments_lexer": "ipython3",
   "version": "3.10.12"
  }
 },
 "nbformat": 4,
 "nbformat_minor": 5
}
